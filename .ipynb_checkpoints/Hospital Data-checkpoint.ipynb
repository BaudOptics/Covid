{
 "cells": [
  {
   "cell_type": "code",
   "execution_count": 1,
   "metadata": {},
   "outputs": [],
   "source": [
    "import pandas as pd"
   ]
  },
  {
   "cell_type": "code",
   "execution_count": 2,
   "metadata": {},
   "outputs": [
    {
     "data": {
      "text/plain": [
       "Index(['state', 'statename', 'collectionDate', 'InpatBeds_Occ_AnyPat_Est',\n",
       "       'InpatBeds_Occ_AnyPat_LoCI', 'InpatBeds_Occ_AnyPat_UpCI',\n",
       "       'InpatBeds_Occ_AnyPat_Est_Avail', 'InBedsOccAnyPat__Numbeds_Est',\n",
       "       'InBedsOccAnyPat__Numbeds_LoCI', 'InBedsOccAnyPat__Numbeds_UpCI',\n",
       "       'InpatBeds_Occ_COVID_Est', 'InpatBeds_Occ_COVID_LoCI',\n",
       "       'InpatBeds_Occ_COVID_UpCI', 'InBedsOccCOVID__Numbeds_Est',\n",
       "       'InBedsOccCOVID__Numbeds_LoCI', 'InBedsOccCOVID__Numbeds_UpCI',\n",
       "       'ICUBeds_Occ_AnyPat_Est', 'ICUBeds_Occ_AnyPat_LoCI',\n",
       "       'ICUBeds_Occ_AnyPat_UpCI', 'ICUBeds_Occ_AnyPat_Est_Avail',\n",
       "       'ICUBedsOccAnyPat__N_ICUBeds_Est', 'ICUBedsOccAnyPat__N_ICUBeds_LoCI',\n",
       "       'ICUBedsOccAnyPat__N_ICUBeds_UpCI', 'Notes'],\n",
       "      dtype='object')"
      ]
     },
     "execution_count": 2,
     "metadata": {},
     "output_type": "execute_result"
    }
   ],
   "source": [
    "df = pd.read_csv('https://www.cdc.gov/nhsn/pdfs/covid19/covid19-NatEst.csv')\n",
    "df.columns"
   ]
  },
  {
   "cell_type": "code",
   "execution_count": 3,
   "metadata": {},
   "outputs": [
    {
     "name": "stdout",
     "output_type": "stream",
     "text": [
      "Column: state | Value: US\n",
      "Column: statename | Value: United States\n",
      "Column: collectionDate | Value: 01APR2020\n",
      "Column: InpatBeds_Occ_AnyPat_Est | Value: 416064\n",
      "Column: InpatBeds_Occ_AnyPat_LoCI | Value: 380186\n",
      "Column: InpatBeds_Occ_AnyPat_UpCI | Value: 451942\n",
      "Column: InpatBeds_Occ_AnyPat_Est_Avail | Value: 350555\n",
      "Column: InBedsOccAnyPat__Numbeds_Est | Value: 54.3\n",
      "Column: InBedsOccAnyPat__Numbeds_LoCI | Value: 52.5\n",
      "Column: InBedsOccAnyPat__Numbeds_UpCI | Value: 56.0\n",
      "Column: InpatBeds_Occ_COVID_Est | Value: 75104\n",
      "Column: InpatBeds_Occ_COVID_LoCI | Value: 66243\n",
      "Column: InpatBeds_Occ_COVID_UpCI | Value: 83964\n",
      "Column: InBedsOccCOVID__Numbeds_Est | Value: 9.8\n",
      "Column: InBedsOccCOVID__Numbeds_LoCI | Value: 8.6\n",
      "Column: InBedsOccCOVID__Numbeds_UpCI | Value: 11.0\n",
      "Column: ICUBeds_Occ_AnyPat_Est | Value: 66369\n",
      "Column: ICUBeds_Occ_AnyPat_LoCI | Value: 56770\n",
      "Column: ICUBeds_Occ_AnyPat_UpCI | Value: 75968\n",
      "Column: ICUBeds_Occ_AnyPat_Est_Avail | Value: 45110\n",
      "Column: ICUBedsOccAnyPat__N_ICUBeds_Est | Value: 59.5\n",
      "Column: ICUBedsOccAnyPat__N_ICUBeds_LoCI | Value: 55.8\n",
      "Column: ICUBedsOccAnyPat__N_ICUBeds_UpCI | Value: 63.2\n",
      "Column: Notes | Value: These estimates are based on data retrieved on 07-08-2020 at 5:30 am.\n"
     ]
    }
   ],
   "source": [
    "for column in df.columns:\n",
    "    print(f'Column: {column} | Value: {df.iloc[1][column]}')"
   ]
  },
  {
   "cell_type": "code",
   "execution_count": 4,
   "metadata": {},
   "outputs": [
    {
     "data": {
      "text/html": [
       "<div>\n",
       "<style scoped>\n",
       "    .dataframe tbody tr th:only-of-type {\n",
       "        vertical-align: middle;\n",
       "    }\n",
       "\n",
       "    .dataframe tbody tr th {\n",
       "        vertical-align: top;\n",
       "    }\n",
       "\n",
       "    .dataframe thead th {\n",
       "        text-align: right;\n",
       "    }\n",
       "</style>\n",
       "<table border=\"1\" class=\"dataframe\">\n",
       "  <thead>\n",
       "    <tr style=\"text-align: right;\">\n",
       "      <th></th>\n",
       "      <th>InBedsOccAnyPat__Numbeds_Est</th>\n",
       "    </tr>\n",
       "  </thead>\n",
       "  <tbody>\n",
       "    <tr>\n",
       "      <th>0</th>\n",
       "      <td>Hospital inpatient bed occupancy, percent esti...</td>\n",
       "    </tr>\n",
       "    <tr>\n",
       "      <th>1</th>\n",
       "      <td>54.3</td>\n",
       "    </tr>\n",
       "    <tr>\n",
       "      <th>2</th>\n",
       "      <td>54.2</td>\n",
       "    </tr>\n",
       "    <tr>\n",
       "      <th>3</th>\n",
       "      <td>52.9</td>\n",
       "    </tr>\n",
       "    <tr>\n",
       "      <th>4</th>\n",
       "      <td>51.5</td>\n",
       "    </tr>\n",
       "    <tr>\n",
       "      <th>...</th>\n",
       "      <td>...</td>\n",
       "    </tr>\n",
       "    <tr>\n",
       "      <th>5028</th>\n",
       "      <td>47.0</td>\n",
       "    </tr>\n",
       "    <tr>\n",
       "      <th>5029</th>\n",
       "      <td>48.7</td>\n",
       "    </tr>\n",
       "    <tr>\n",
       "      <th>5030</th>\n",
       "      <td>47.0</td>\n",
       "    </tr>\n",
       "    <tr>\n",
       "      <th>5031</th>\n",
       "      <td>44.3</td>\n",
       "    </tr>\n",
       "    <tr>\n",
       "      <th>5032</th>\n",
       "      <td>44.2</td>\n",
       "    </tr>\n",
       "  </tbody>\n",
       "</table>\n",
       "<p>5033 rows × 1 columns</p>\n",
       "</div>"
      ],
      "text/plain": [
       "                           InBedsOccAnyPat__Numbeds_Est\n",
       "0     Hospital inpatient bed occupancy, percent esti...\n",
       "1                                                  54.3\n",
       "2                                                  54.2\n",
       "3                                                  52.9\n",
       "4                                                  51.5\n",
       "...                                                 ...\n",
       "5028                                               47.0\n",
       "5029                                               48.7\n",
       "5030                                               47.0\n",
       "5031                                               44.3\n",
       "5032                                               44.2\n",
       "\n",
       "[5033 rows x 1 columns]"
      ]
     },
     "execution_count": 4,
     "metadata": {},
     "output_type": "execute_result"
    }
   ],
   "source": [
    "occupancy = df[['collectionDate', 'InBedsOccAnyPat__Numbeds_Est']]\n",
    "df\n",
    "df.to_csv('Data/hospital_capacity.csv')"
   ]
  },
  {
   "cell_type": "code",
   "execution_count": null,
   "metadata": {},
   "outputs": [],
   "source": []
  }
 ],
 "metadata": {
  "kernelspec": {
   "display_name": "Python 3",
   "language": "python",
   "name": "python3"
  },
  "language_info": {
   "codemirror_mode": {
    "name": "ipython",
    "version": 3
   },
   "file_extension": ".py",
   "mimetype": "text/x-python",
   "name": "python",
   "nbconvert_exporter": "python",
   "pygments_lexer": "ipython3",
   "version": "3.8.5"
  }
 },
 "nbformat": 4,
 "nbformat_minor": 4
}
