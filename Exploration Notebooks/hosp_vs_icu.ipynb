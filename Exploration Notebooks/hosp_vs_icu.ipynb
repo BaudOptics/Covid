{
 "cells": [
  {
   "cell_type": "markdown",
   "metadata": {},
   "source": [
    "##  <font color='black'>Hospital versus ICU Admission Status (Impact on likihood of death)\n",
    "    "
   ]
  },
  {
   "cell_type": "code",
   "execution_count": 12,
   "metadata": {},
   "outputs": [],
   "source": [
    "# Import dependencies\n",
    "\n",
    "import pandas as pd\n",
    "import numpy as np\n",
    "import statsmodels.api as sm\n",
    "import matplotlib.pyplot as plt\n",
    "import scipy.stats as st\n",
    "from scipy.stats import linregress"
   ]
  },
  {
   "cell_type": "code",
   "execution_count": 13,
   "metadata": {},
   "outputs": [],
   "source": [
    "# Read Data file\n",
    "df = pd.read_csv('./Data/clean_data.csv')"
   ]
  },
  {
   "cell_type": "code",
   "execution_count": 14,
   "metadata": {},
   "outputs": [
    {
     "data": {
      "text/html": [
       "<div>\n",
       "<style scoped>\n",
       "    .dataframe tbody tr th:only-of-type {\n",
       "        vertical-align: middle;\n",
       "    }\n",
       "\n",
       "    .dataframe tbody tr th {\n",
       "        vertical-align: top;\n",
       "    }\n",
       "\n",
       "    .dataframe thead th {\n",
       "        text-align: right;\n",
       "    }\n",
       "</style>\n",
       "<table border=\"1\" class=\"dataframe\">\n",
       "  <thead>\n",
       "    <tr style=\"text-align: right;\">\n",
       "      <th></th>\n",
       "      <th>cdc_report_dt</th>\n",
       "      <th>pos_spec_dt</th>\n",
       "      <th>onset_dt</th>\n",
       "      <th>current_status</th>\n",
       "      <th>sex</th>\n",
       "      <th>age_group</th>\n",
       "      <th>Race and ethnicity (combined)</th>\n",
       "      <th>hosp_yn</th>\n",
       "      <th>icu_yn</th>\n",
       "      <th>death_yn</th>\n",
       "      <th>medcond_yn</th>\n",
       "      <th>month</th>\n",
       "      <th>inpatient__occupancy</th>\n",
       "      <th>percent_of_inpatients_with_covid</th>\n",
       "    </tr>\n",
       "  </thead>\n",
       "  <tbody>\n",
       "    <tr>\n",
       "      <th>0</th>\n",
       "      <td>2020/11/14</td>\n",
       "      <td>2020/11/10</td>\n",
       "      <td>2020/11/10</td>\n",
       "      <td>Laboratory-confirmed case</td>\n",
       "      <td>1.0</td>\n",
       "      <td>10 - 19 Years</td>\n",
       "      <td>Black</td>\n",
       "      <td>0.0</td>\n",
       "      <td>0.0</td>\n",
       "      <td>0.0</td>\n",
       "      <td>0.0</td>\n",
       "      <td>11</td>\n",
       "      <td>0.688734</td>\n",
       "      <td>0.1512</td>\n",
       "    </tr>\n",
       "    <tr>\n",
       "      <th>1</th>\n",
       "      <td>2020/11/19</td>\n",
       "      <td>2020/11/10</td>\n",
       "      <td>2020/11/09</td>\n",
       "      <td>Laboratory-confirmed case</td>\n",
       "      <td>1.0</td>\n",
       "      <td>10 - 19 Years</td>\n",
       "      <td>Black</td>\n",
       "      <td>0.0</td>\n",
       "      <td>0.0</td>\n",
       "      <td>0.0</td>\n",
       "      <td>0.0</td>\n",
       "      <td>11</td>\n",
       "      <td>0.688734</td>\n",
       "      <td>0.1512</td>\n",
       "    </tr>\n",
       "  </tbody>\n",
       "</table>\n",
       "</div>"
      ],
      "text/plain": [
       "  cdc_report_dt pos_spec_dt    onset_dt             current_status  sex  \\\n",
       "0    2020/11/14  2020/11/10  2020/11/10  Laboratory-confirmed case  1.0   \n",
       "1    2020/11/19  2020/11/10  2020/11/09  Laboratory-confirmed case  1.0   \n",
       "\n",
       "       age_group Race and ethnicity (combined)  hosp_yn  icu_yn  death_yn  \\\n",
       "0  10 - 19 Years                         Black      0.0     0.0       0.0   \n",
       "1  10 - 19 Years                         Black      0.0     0.0       0.0   \n",
       "\n",
       "   medcond_yn  month  inpatient__occupancy  percent_of_inpatients_with_covid  \n",
       "0         0.0     11              0.688734                            0.1512  \n",
       "1         0.0     11              0.688734                            0.1512  "
      ]
     },
     "execution_count": 14,
     "metadata": {},
     "output_type": "execute_result"
    }
   ],
   "source": [
    "# Display header to get a sense of look and feel\n",
    "df.head(2)"
   ]
  },
  {
   "cell_type": "code",
   "execution_count": 15,
   "metadata": {},
   "outputs": [
    {
     "data": {
      "text/html": [
       "<div>\n",
       "<style scoped>\n",
       "    .dataframe tbody tr th:only-of-type {\n",
       "        vertical-align: middle;\n",
       "    }\n",
       "\n",
       "    .dataframe tbody tr th {\n",
       "        vertical-align: top;\n",
       "    }\n",
       "\n",
       "    .dataframe thead th {\n",
       "        text-align: right;\n",
       "    }\n",
       "</style>\n",
       "<table border=\"1\" class=\"dataframe\">\n",
       "  <thead>\n",
       "    <tr style=\"text-align: right;\">\n",
       "      <th></th>\n",
       "      <th>cdc_report_dt</th>\n",
       "      <th>pos_spec_dt</th>\n",
       "      <th>onset_dt</th>\n",
       "      <th>current_status</th>\n",
       "      <th>sex</th>\n",
       "      <th>age_group</th>\n",
       "      <th>Race and ethnicity (combined)</th>\n",
       "      <th>hosp_yn</th>\n",
       "      <th>icu_yn</th>\n",
       "      <th>death_yn</th>\n",
       "      <th>medcond_yn</th>\n",
       "      <th>inpatient__occupancy</th>\n",
       "      <th>percent_of_inpatients_with_covid</th>\n",
       "    </tr>\n",
       "    <tr>\n",
       "      <th>month</th>\n",
       "      <th></th>\n",
       "      <th></th>\n",
       "      <th></th>\n",
       "      <th></th>\n",
       "      <th></th>\n",
       "      <th></th>\n",
       "      <th></th>\n",
       "      <th></th>\n",
       "      <th></th>\n",
       "      <th></th>\n",
       "      <th></th>\n",
       "      <th></th>\n",
       "      <th></th>\n",
       "    </tr>\n",
       "  </thead>\n",
       "  <tbody>\n",
       "    <tr>\n",
       "      <th>1</th>\n",
       "      <td>16</td>\n",
       "      <td>16</td>\n",
       "      <td>16</td>\n",
       "      <td>16</td>\n",
       "      <td>16</td>\n",
       "      <td>16</td>\n",
       "      <td>16</td>\n",
       "      <td>16</td>\n",
       "      <td>16</td>\n",
       "      <td>16</td>\n",
       "      <td>16</td>\n",
       "      <td>16</td>\n",
       "      <td>16</td>\n",
       "    </tr>\n",
       "    <tr>\n",
       "      <th>2</th>\n",
       "      <td>70</td>\n",
       "      <td>70</td>\n",
       "      <td>70</td>\n",
       "      <td>70</td>\n",
       "      <td>70</td>\n",
       "      <td>70</td>\n",
       "      <td>70</td>\n",
       "      <td>70</td>\n",
       "      <td>70</td>\n",
       "      <td>70</td>\n",
       "      <td>70</td>\n",
       "      <td>70</td>\n",
       "      <td>70</td>\n",
       "    </tr>\n",
       "  </tbody>\n",
       "</table>\n",
       "</div>"
      ],
      "text/plain": [
       "       cdc_report_dt  pos_spec_dt  onset_dt  current_status  sex  age_group  \\\n",
       "month                                                                         \n",
       "1                 16           16        16              16   16         16   \n",
       "2                 70           70        70              70   70         70   \n",
       "\n",
       "       Race and ethnicity (combined)  hosp_yn  icu_yn  death_yn  medcond_yn  \\\n",
       "month                                                                         \n",
       "1                                 16       16      16        16          16   \n",
       "2                                 70       70      70        70          70   \n",
       "\n",
       "       inpatient__occupancy  percent_of_inpatients_with_covid  \n",
       "month                                                          \n",
       "1                        16                                16  \n",
       "2                        70                                70  "
      ]
     },
     "execution_count": 15,
     "metadata": {},
     "output_type": "execute_result"
    }
   ],
   "source": [
    "#Define Month Grouping\n",
    "grp_stats = df.groupby(['month'])\n",
    "\n",
    "grp_stats.count().head(2)"
   ]
  },
  {
   "cell_type": "code",
   "execution_count": 16,
   "metadata": {},
   "outputs": [],
   "source": [
    "#Calculate Death & Covid inpatients Stats per month\n",
    "\n",
    "# Sum on Death \n",
    "sum_dth = grp_stats[\"death_yn\"].sum()\n",
    "\n",
    "# Total Population Count\n",
    "totalcnt = grp_stats[\"death_yn\"].count()\n",
    "\n",
    "#Average Percent of deaths\n",
    "pct_dth = sum_dth/totalcnt\n",
    "\n",
    "#Average Covid inpatient percentage\n",
    "covid_inpatient_pct = grp_stats[\"percent_of_inpatients_with_covid\"].mean()\n"
   ]
  },
  {
   "cell_type": "code",
   "execution_count": 17,
   "metadata": {},
   "outputs": [
    {
     "data": {
      "text/html": [
       "<div>\n",
       "<style scoped>\n",
       "    .dataframe tbody tr th:only-of-type {\n",
       "        vertical-align: middle;\n",
       "    }\n",
       "\n",
       "    .dataframe tbody tr th {\n",
       "        vertical-align: top;\n",
       "    }\n",
       "\n",
       "    .dataframe thead th {\n",
       "        text-align: right;\n",
       "    }\n",
       "</style>\n",
       "<table border=\"1\" class=\"dataframe\">\n",
       "  <thead>\n",
       "    <tr style=\"text-align: right;\">\n",
       "      <th></th>\n",
       "      <th>In Patient Pct</th>\n",
       "      <th>Dth_Rate</th>\n",
       "    </tr>\n",
       "    <tr>\n",
       "      <th>month</th>\n",
       "      <th></th>\n",
       "      <th></th>\n",
       "    </tr>\n",
       "  </thead>\n",
       "  <tbody>\n",
       "    <tr>\n",
       "      <th>1</th>\n",
       "      <td>0.000000</td>\n",
       "      <td>0.000000</td>\n",
       "    </tr>\n",
       "    <tr>\n",
       "      <th>2</th>\n",
       "      <td>0.004861</td>\n",
       "      <td>0.228571</td>\n",
       "    </tr>\n",
       "    <tr>\n",
       "      <th>3</th>\n",
       "      <td>0.067229</td>\n",
       "      <td>0.260440</td>\n",
       "    </tr>\n",
       "    <tr>\n",
       "      <th>4</th>\n",
       "      <td>0.148326</td>\n",
       "      <td>0.171560</td>\n",
       "    </tr>\n",
       "    <tr>\n",
       "      <th>5</th>\n",
       "      <td>0.111960</td>\n",
       "      <td>0.094997</td>\n",
       "    </tr>\n",
       "    <tr>\n",
       "      <th>6</th>\n",
       "      <td>0.078412</td>\n",
       "      <td>0.168010</td>\n",
       "    </tr>\n",
       "    <tr>\n",
       "      <th>7</th>\n",
       "      <td>0.105063</td>\n",
       "      <td>0.039583</td>\n",
       "    </tr>\n",
       "    <tr>\n",
       "      <th>8</th>\n",
       "      <td>0.087548</td>\n",
       "      <td>0.032629</td>\n",
       "    </tr>\n",
       "    <tr>\n",
       "      <th>9</th>\n",
       "      <td>0.068433</td>\n",
       "      <td>0.026141</td>\n",
       "    </tr>\n",
       "    <tr>\n",
       "      <th>10</th>\n",
       "      <td>0.084843</td>\n",
       "      <td>0.024347</td>\n",
       "    </tr>\n",
       "    <tr>\n",
       "      <th>11</th>\n",
       "      <td>0.151200</td>\n",
       "      <td>0.014549</td>\n",
       "    </tr>\n",
       "  </tbody>\n",
       "</table>\n",
       "</div>"
      ],
      "text/plain": [
       "       In Patient Pct  Dth_Rate\n",
       "month                          \n",
       "1            0.000000  0.000000\n",
       "2            0.004861  0.228571\n",
       "3            0.067229  0.260440\n",
       "4            0.148326  0.171560\n",
       "5            0.111960  0.094997\n",
       "6            0.078412  0.168010\n",
       "7            0.105063  0.039583\n",
       "8            0.087548  0.032629\n",
       "9            0.068433  0.026141\n",
       "10           0.084843  0.024347\n",
       "11           0.151200  0.014549"
      ]
     },
     "execution_count": 17,
     "metadata": {},
     "output_type": "execute_result"
    }
   ],
   "source": [
    "#Create a dataframe to enable statistical regression and plotting\n",
    "grp_stats_df = pd.DataFrame({\"In Patient Pct\" : covid_inpatient_pct,\n",
    "                             \"Dth_Rate\" : pct_dth\n",
    "                             })\n",
    "grp_stats_df"
   ]
  },
  {
   "cell_type": "code",
   "execution_count": 21,
   "metadata": {},
   "outputs": [],
   "source": [
    "#Set today's date as a variable\n",
    "date = pd.to_datetime(\"today\").strftime(\"%m/%d/%Y\")"
   ]
  },
  {
   "cell_type": "code",
   "execution_count": 22,
   "metadata": {},
   "outputs": [
    {
     "data": {
      "text/plain": [
       "-0.14409"
      ]
     },
     "execution_count": 22,
     "metadata": {},
     "output_type": "execute_result"
    }
   ],
   "source": [
    "#Calculate correlation coefficient\n",
    "Correlation_Coef = round(st.pearsonr(grp_stats_df['In Patient Pct'],grp_stats_df['Dth_Rate'])[0],5)\n",
    "Correlation_Coef"
   ]
  },
  {
   "cell_type": "code",
   "execution_count": 23,
   "metadata": {},
   "outputs": [
    {
     "data": {
      "text/html": [
       "<div>\n",
       "<style scoped>\n",
       "    .dataframe tbody tr th:only-of-type {\n",
       "        vertical-align: middle;\n",
       "    }\n",
       "\n",
       "    .dataframe tbody tr th {\n",
       "        vertical-align: top;\n",
       "    }\n",
       "\n",
       "    .dataframe thead th {\n",
       "        text-align: right;\n",
       "    }\n",
       "</style>\n",
       "<table border=\"1\" class=\"dataframe\">\n",
       "  <thead>\n",
       "    <tr style=\"text-align: right;\">\n",
       "      <th></th>\n",
       "      <th>Corr Analysis</th>\n",
       "      <th>Slope</th>\n",
       "      <th>Intercept</th>\n",
       "      <th>rValueCorr_Coef</th>\n",
       "      <th>PndasCorr_Coef</th>\n",
       "      <th>StdErr</th>\n",
       "    </tr>\n",
       "  </thead>\n",
       "  <tbody>\n",
       "    <tr>\n",
       "      <th>0</th>\n",
       "      <td>In Patient Pct vs Dth_Rate</td>\n",
       "      <td>{-0.2783070945915395}</td>\n",
       "      <td>{0.11940860702490949}</td>\n",
       "      <td>{-0.14409079864421032}</td>\n",
       "      <td>{-0.14409}</td>\n",
       "      <td>{0.6371047870586242}</td>\n",
       "    </tr>\n",
       "  </tbody>\n",
       "</table>\n",
       "</div>"
      ],
      "text/plain": [
       "                Corr Analysis                  Slope              Intercept  \\\n",
       "0  In Patient Pct vs Dth_Rate  {-0.2783070945915395}  {0.11940860702490949}   \n",
       "\n",
       "          rValueCorr_Coef PndasCorr_Coef                StdErr  \n",
       "0  {-0.14409079864421032}     {-0.14409}  {0.6371047870586242}  "
      ]
     },
     "execution_count": 23,
     "metadata": {},
     "output_type": "execute_result"
    }
   ],
   "source": [
    "#Calulate linear formula\n",
    "x_values = grp_stats_df['In Patient Pct']\n",
    "y_values = grp_stats_df['Dth_Rate']\n",
    "\n",
    "(slope, intercept, rvalue, pvalue, stderr) = linregress(x_values, y_values)\n",
    "regress_values = x_values * slope + intercept\n",
    "\n",
    "#Record results in a dataframe\n",
    "linear_formula_Df = pd.DataFrame({\n",
    "    \"Corr Analysis\":\"In Patient Pct vs Dth_Rate\",\n",
    "    \"Slope\":{slope},\n",
    "    \"Intercept\":{intercept},\n",
    "    \"rValueCorr_Coef\":{rvalue},\n",
    "    \"PndasCorr_Coef\":{Correlation_Coef},\n",
    "    \"StdErr\":{stderr} \n",
    "} ,index=[0] )\n",
    "linear_formula_Df"
   ]
  },
  {
   "cell_type": "code",
   "execution_count": 24,
   "metadata": {},
   "outputs": [
    {
     "data": {
      "text/plain": [
       "'y = -0.28x + 0.12'"
      ]
     },
     "execution_count": 24,
     "metadata": {},
     "output_type": "execute_result"
    }
   ],
   "source": [
    "#Create text for plot overlay\n",
    "line_equation = \"y = \" + str(round(slope,2)) + \"x + \" + str(round(intercept,2))\n",
    "line_equation"
   ]
  },
  {
   "cell_type": "code",
   "execution_count": 51,
   "metadata": {},
   "outputs": [
    {
     "data": {
      "image/png": "[encoded data removed]",
      "text/plain": [
       "<Figure size 1080x576 with 1 Axes>"
      ]
     },
     "metadata": {
      "needs_background": "light"
     },
     "output_type": "display_data"
    }
   ],
   "source": [
    "#Plot the linear regression model on top of the scatter plot\n",
    "\n",
    "# Generate a scatter plot of Max Temp vs. Latitude\n",
    "# Add the linear regreassion and line to the plot\n",
    "\n",
    "#Charactorize figure size/layout                       \n",
    "fig1, ax1 = plt.subplots(figsize=(15, 8))\n",
    "\n",
    "#Build and format scatter plot based on mean values drawn from the clean_weather_data_df dataframe\n",
    "plt.scatter(grp_stats_df['In Patient Pct'],grp_stats_df['Dth_Rate'],s=30, edgecolors='black', color=\"green\")\n",
    "\n",
    "#define title and Lable axis\n",
    "plt.title('In Patient Pct vs Dth_Rate '+date,fontsize =18)\n",
    "plt.xlabel('In Patient Pct',fontsize =16)\n",
    "plt.ylabel('Dth_Rate',fontsize =16)\n",
    "marker_size = 12\n",
    "\n",
    "#Establish plot limits\n",
    "plt.ylim(0, .2)\n",
    "\n",
    "# Add plot and text of linear regression model \n",
    "plt.plot(x_values,regress_values,\"r-\")\n",
    "ax1.annotate(line_equation, xy=(.08, .12), xycoords='data',xytext=(0.25, 0.15), textcoords='axes fraction',\n",
    "             horizontalalignment='right', verticalalignment='top',fontsize=20,color=\"blue\")\n",
    "\n",
    "\n",
    "#Save image for potential reference in the report\n",
    "plt.savefig(\"./Images/Plots/In Patient Pct vs Dth_Rate.png\")\n",
    "\n",
    "plt.show()"
   ]
  },
  {
   "cell_type": "code",
   "execution_count": 50,
   "metadata": {},
   "outputs": [
    {
     "data": {
      "image/png": "[encoded data removed]",
      "text/plain": [
       "<Figure size 1296x576 with 1 Axes>"
      ]
     },
     "metadata": {
      "needs_background": "light"
     },
     "output_type": "display_data"
    }
   ],
   "source": [
    "# Generate a bar plot showing the inpatient percentage and death rates by month using pandas.\n",
    "\n",
    "#Plot Chart\n",
    "measure_plot = grp_stats_df.plot.bar(figsize=(18,8), color= ['green', 'black'],fontsize = 14)\n",
    "plt.xlabel(\"Months\",fontsize = 16)\n",
    "plt.ylabel(\"Rates and Percentages\",fontsize = 16)\n",
    "plt.title(\"Inpatient Percentage and Death Rates By Month\",fontsize = 18)\n",
    "plt.xticks(rotation=0)\n",
    "\n",
    "\n",
    "#Save image for potential reference in the report\n",
    "plt.savefig(\"./Images/Plots/inpatient_pct_and_dth_rte_plot_by_mnth.png\")\n",
    "\n",
    "plt.show()"
   ]
  },
  {
   "cell_type": "code",
   "execution_count": null,
   "metadata": {},
   "outputs": [],
   "source": []
  }
 ],
 "metadata": {
  "kernelspec": {
   "display_name": "Python 3",
   "language": "python",
   "name": "python3"
  },
  "language_info": {
   "codemirror_mode": {
    "name": "ipython",
    "version": 3
   },
   "file_extension": ".py",
   "mimetype": "text/x-python",
   "name": "python",
   "nbconvert_exporter": "python",
   "pygments_lexer": "ipython3",
   "version": "3.8.5"
  }
 },
 "nbformat": 4,
 "nbformat_minor": 4
}
